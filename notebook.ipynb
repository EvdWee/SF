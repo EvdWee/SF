{
 "cells": [
  {
   "cell_type": "code",
   "execution_count": 2,
   "id": "917202a6",
   "metadata": {
    "scrolled": false
   },
   "outputs": [
    {
     "name": "stdout",
     "output_type": "stream",
     "text": [
      "Scaling factor calculator \n",
      "\n",
      "Adjust the sliders to set the parameters of the plot\n"
     ]
    },
    {
     "data": {
      "application/vnd.jupyter.widget-view+json": {
       "model_id": "3baed7c8c7d84be59570ff81b1218482",
       "version_major": 2,
       "version_minor": 0
      },
      "text/plain": [
       "interactive(children=(FloatSlider(value=0.85, description='Numerical aperture ----------', layout=Layout(width…"
      ]
     },
     "metadata": {},
     "output_type": "display_data"
    }
   ],
   "source": [
    "from ipywidgets import interact, interactive, fixed, interact_manual, Layout\n",
    "import ipywidgets as widgets\n",
    "import numpy as np\n",
    "import matplotlib.pyplot as plt\n",
    "%matplotlib inline\n",
    "\n",
    "\n",
    "\n",
    "def scaling_factor(NA,n1,n2,lam_0):\n",
    "\n",
    "    z = np.arange(lam_0,100,0.1)\n",
    "    n2overn1 = np.divide(n2,n1)\n",
    "    \n",
    "    if n2overn1 < 1: eps = np.multiply(-1,np.divide(np.divide(lam_0,4),(np.multiply(z,n2))))\n",
    "    else: eps = np.divide(np.divide(lam_0,4),(np.multiply(z,n2)))\n",
    "    eps_term = np.multiply(eps, np.subtract(2,eps))    \n",
    "    \n",
    "    m = np.emath.sqrt(np.subtract(np.power(n2,2),np.power(n1,2)))\n",
    "    \n",
    "    sf_univ = np.multiply(np.divide(n2,n1),\n",
    "                          np.divide(1-eps+np.divide(m,n1)*np.emath.sqrt(eps_term),\n",
    "                                    1-np.multiply(np.divide(n2,n1)**2,eps_term)))\n",
    "    sf_crit = np.divide(n1-np.emath.sqrt(np.power(n1,2)-np.power(NA,2)),\n",
    "                        n2-np.emath.sqrt(np.power(n2,2)-np.power(NA,2)))\n",
    "    \n",
    "    sf = np.zeros(len(z))\n",
    "    for i in range(len(sf)):\n",
    "        if n2overn1 < 1: sf[i] = np.max([np.real(sf_univ[i]),np.real(sf_crit)])\n",
    "        elif n2overn1 > 1:sf[i] = np.min([np.real(sf_univ[i]),np.real(sf_crit)])\n",
    "        else: sf[i]=1\n",
    "    if n2overn1 > 1:   plt.ylim([n2overn1*0.9,1.1*sf_crit])\n",
    "    elif n2overn1 < 1: plt.ylim([0.8*sf_crit,n2overn1*1.1])\n",
    "    else: plt.ylim(0.5,1.5)\n",
    "    plt.xlim([0,100])\n",
    "    plt.xlabel(r'Depth ($\\mu$m)')\n",
    "    plt.ylabel(r'Scaling factor $\\zeta$')\n",
    "    plt.plot(z,sf)\n",
    "\n",
    "print(\"Scaling factor calculator \\n\\nAdjust the sliders to set the parameters of the plot\")    \n",
    "  \n",
    "style = {'description_width': 'initial'}\n",
    "interact(scaling_factor, NA = widgets.FloatSlider(value=0.85, description='Numerical aperture ----------', \n",
    "                                        style=style, layout = Layout(width='40%'),\n",
    "                                               min=0.1,\n",
    "                                               max=1.4,\n",
    "                                               step=0.05),\n",
    "        n1 = widgets.FloatSlider(value=1, description='Immersion refractive index $n_1$', \n",
    "                                        style=style,layout = Layout(width='40%'),\n",
    "                                               min=1,\n",
    "                                               max=1.52,\n",
    "                                               step=0.01),\n",
    "        n2 = widgets.FloatSlider(value=1.33,description='Sample refractive index $n_2$ --', \n",
    "                                        style=style,layout = Layout(width='40%'),\n",
    "                                               min=1,\n",
    "                                               max=1.52,\n",
    "                                               step=0.01),\n",
    "        lam_0 = widgets.FloatSlider(value=0.52,description=r'Wavelength $\\lambda_0$ ($\\mu$m) ---------', \n",
    "                                        style=style,layout = Layout(width='40%'),\n",
    "                                               min=0.2,\n",
    "                                               max=0.9,\n",
    "                                               step=0.02))\n",
    "\n",
    "\n",
    "\n",
    "plt.show()"
   ]
  },
  {
   "cell_type": "code",
   "execution_count": null,
   "id": "6da303b2",
   "metadata": {},
   "outputs": [],
   "source": []
  }
 ],
 "metadata": {
  "kernelspec": {
   "display_name": "Python 3 (ipykernel)",
   "language": "python",
   "name": "python3"
  },
  "language_info": {
   "codemirror_mode": {
    "name": "ipython",
    "version": 3
   },
   "file_extension": ".py",
   "mimetype": "text/x-python",
   "name": "python",
   "nbconvert_exporter": "python",
   "pygments_lexer": "ipython3",
   "version": "3.10.10"
  }
 },
 "nbformat": 4,
 "nbformat_minor": 5
}
