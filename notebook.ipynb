{
 "cells": [
  {
   "cell_type": "code",
   "execution_count": 5,
   "id": "917202a6",
   "metadata": {
    "scrolled": false
   },
   "outputs": [
    {
     "name": "stdout",
     "output_type": "stream",
     "text": [
      "Scaling factor calculator \n",
      "\n",
      "Adjust the sliders to set the parameters of the plot\n"
     ]
    },
    {
     "data": {
      "application/vnd.jupyter.widget-view+json": {
       "model_id": "831a545e0c0640a1b57550fd71990d31",
       "version_major": 2,
       "version_minor": 0
      },
      "text/plain": [
       "interactive(children=(FloatSlider(value=0.85, description='Numerical aperture ----------', layout=Layout(width…"
      ]
     },
     "metadata": {},
     "output_type": "display_data"
    },
    {
     "data": {
      "application/vnd.jupyter.widget-view+json": {
       "model_id": "64a6a73b29064bffbff36f8c9aeae2fa",
       "version_major": 2,
       "version_minor": 0
      },
      "text/plain": [
       "Output()"
      ]
     },
     "metadata": {},
     "output_type": "display_data"
    },
    {
     "data": {
      "application/vnd.jupyter.widget-view+json": {
       "model_id": "75aa57f655d24b20bbc78188a7065ac9",
       "version_major": 2,
       "version_minor": 0
      },
      "text/plain": [
       "Output()"
      ]
     },
     "metadata": {},
     "output_type": "display_data"
    },
    {
     "data": {
      "application/vnd.jupyter.widget-view+json": {
       "model_id": "1dc3b257f0cd47b893e8f7f624ea5463",
       "version_major": 2,
       "version_minor": 0
      },
      "text/plain": [
       "Button(description='Download as .csv', style=ButtonStyle())"
      ]
     },
     "metadata": {},
     "output_type": "display_data"
    },
    {
     "data": {
      "application/vnd.jupyter.widget-view+json": {
       "model_id": "58d8e4d92d8a4b22bf296aa9f05c0b22",
       "version_major": 2,
       "version_minor": 0
      },
      "text/plain": [
       "Button(description='Source', style=ButtonStyle(), tooltip='https://github.com/hoogenboom-group/SF')"
      ]
     },
     "metadata": {},
     "output_type": "display_data"
    }
   ],
   "source": [
    "from ipywidgets import interact, interactive, fixed, interact_manual, Layout, Output, Button\n",
    "import ipywidgets as widgets\n",
    "import numpy as np\n",
    "import matplotlib.pyplot as plt\n",
    "from IPython.display import HTML, clear_output, Javascript\n",
    "from base64 import b64encode\n",
    "%matplotlib inline\n",
    "\n",
    "##### DEFINE FUNCTIONS #####\n",
    "\n",
    "def scaling_factor(NA,n1,n2,lam_0):\n",
    "    z = np.arange(lam_0,100,0.1)\n",
    "    n2overn1 = np.divide(n2,n1)\n",
    "    \n",
    "    if n2overn1 < 1: eps = np.multiply(-1,np.divide(np.divide(lam_0,4),(np.multiply(z,n2))))\n",
    "    else: eps = np.divide(np.divide(lam_0,4),(np.multiply(z,n2)))\n",
    "    eps_term = np.multiply(eps, np.subtract(2,eps))    \n",
    "    \n",
    "    m = np.emath.sqrt(np.subtract(np.power(n2,2),np.power(n1,2)))\n",
    "    \n",
    "    sf_univ = np.multiply(np.divide(n2,n1),\n",
    "                          np.divide(1-eps+np.divide(m,n1)*np.emath.sqrt(eps_term),\n",
    "                                    1-np.multiply(np.divide(n2,n1)**2,eps_term)))\n",
    "    sf_crit = np.divide(n1-np.emath.sqrt(np.power(n1,2)-np.power(NA,2)),\n",
    "                        n2-np.emath.sqrt(np.power(n2,2)-np.power(NA,2)))\n",
    "    \n",
    "    sf = np.zeros(len(z))\n",
    "    for i in range(len(sf)):\n",
    "        if n2overn1 < 1: sf[i] = np.max([np.real(sf_univ[i]),np.real(sf_crit)])\n",
    "        elif n2overn1 > 1:sf[i] = np.min([np.real(sf_univ[i]),np.real(sf_crit)])\n",
    "        else: sf[i]=1\n",
    "    return z,sf,sf_crit,n2overn1\n",
    "\n",
    "def plot_scaling_factor(NA,n1,n2,lam_0):\n",
    "    z,sf,sf_crit,n2overn1=scaling_factor(NA,n1,n2,lam_0)\n",
    "    plt.figure(figsize=(10,6))\n",
    "    if n2overn1 > 1:   plt.ylim([n2overn1*0.9,1.1*np.real(sf_crit)])\n",
    "    elif n2overn1 < 1: plt.ylim([0.8*np.real(sf_crit),n2overn1*1.1])\n",
    "    else: plt.ylim(0.5,1.5)\n",
    "    plt.xlim([0,100])\n",
    "    plt.xlabel(r'Depth ($\\mu$m)')\n",
    "    plt.ylabel(r'Scaling factor $\\zeta$')\n",
    "    plt.grid(ls=':')\n",
    "    plt.plot(z,sf)\n",
    "\n",
    "def csv_file(x,y):\n",
    "    # add column names\n",
    "    string = 'Depth (microns),Scaling Factor\\n'\n",
    "    for i in range(len(x)): #run over all data points and add to file\n",
    "        string+=(str(x[i])+','+str(y[i])+'\\n')\n",
    "    return string\n",
    "\n",
    "def trigger_download(text, filename, kind='text/json'):\n",
    "    # see https://developer.mozilla.org/en-US/docs/Web/HTTP/Basics_of_HTTP/Data_URIs for details\n",
    "    content_b64 = b64encode(text.encode()).decode()\n",
    "    data_url = f'data:{kind};charset=utf-8;base64,{content_b64}'\n",
    "    js_code = f\"\"\"\n",
    "        var a = document.createElement('a');\n",
    "        a.setAttribute('download', '{filename}');\n",
    "        a.setAttribute('href', '{data_url}');\n",
    "        a.click()\n",
    "    \"\"\"\n",
    "    with download_output:\n",
    "        clear_output()\n",
    "        display(HTML(f'<script>{js_code}</script>'))\n",
    "\n",
    "def download_csv(e=None):\n",
    "    NA = widget.widget.children[0].value\n",
    "    n1 = widget.widget.children[1].value\n",
    "    n2 = widget.widget.children[2].value\n",
    "    lam_0 = widget.widget.children[3].value\n",
    "    z,sf,_,_=scaling_factor(NA,n1,n2,lam_0)\n",
    "    trigger_download(csv_file(z,sf), 'sf_vs_depth.csv', kind='text/plain')\n",
    "    \n",
    "def window_open_button(url):\n",
    "    with out:\n",
    "        display(Javascript(f'window.open(\"{url.tooltip}\");'))\n",
    "\n",
    "\n",
    "##### START CODE #####\n",
    "        \n",
    "print(\"Scaling factor calculator \\n\\nAdjust the sliders to set the parameters of the plot\")    \n",
    "  \n",
    "style = {'description_width': 'initial'}\n",
    "slider_width = '40%'\n",
    "widget = interact(plot_scaling_factor, NA = widgets.FloatSlider(value=0.85, description='Numerical aperture ----------', \n",
    "                                        style=style, layout = Layout(width=slider_width),\n",
    "                                               min=0.1,\n",
    "                                               max=1.5,\n",
    "                                               step=0.05),\n",
    "        n1 = widgets.FloatSlider(value=1, description='Immersion refractive index $n_1$', \n",
    "                                        style=style,layout = Layout(width=slider_width),\n",
    "                                               min=1,\n",
    "                                               max=1.52,\n",
    "                                               step=0.01),\n",
    "        n2 = widgets.FloatSlider(value=1.33,description='Sample refractive index $n_2$ --', \n",
    "                                        style=style,layout = Layout(width=slider_width),\n",
    "                                               min=1,\n",
    "                                               max=1.52,\n",
    "                                               step=0.01),\n",
    "        lam_0 = widgets.FloatSlider(value=0.52,description=r'Wavelength $\\lambda_0$ ($\\mu$m) ---------', \n",
    "                                        style=style,layout = Layout(width=slider_width),\n",
    "                                               min=0.2,\n",
    "                                               max=0.9,\n",
    "                                               step=0.02))\n",
    "\n",
    "plt.show()\n",
    "\n",
    "download_output = Output()\n",
    "display(download_output)\n",
    "out = Output()\n",
    "display(out)\n",
    "\n",
    "btn = Button(description='Download as .csv')\n",
    "btn2 = Button(description=\"Source\", tooltip='https://github.com/hoogenboom-group/SF')\n",
    "\n",
    "btn.on_click(download_csv)\n",
    "btn2.on_click(window_open_button)\n",
    "\n",
    "display(btn,btn2)\n"
   ]
  },
  {
   "cell_type": "code",
   "execution_count": null,
   "id": "63706877",
   "metadata": {},
   "outputs": [],
   "source": []
  }
 ],
 "metadata": {
  "kernelspec": {
   "display_name": "Python 3 (ipykernel)",
   "language": "python",
   "name": "python3"
  },
  "language_info": {
   "codemirror_mode": {
    "name": "ipython",
    "version": 3
   },
   "file_extension": ".py",
   "mimetype": "text/x-python",
   "name": "python",
   "nbconvert_exporter": "python",
   "pygments_lexer": "ipython3",
   "version": "3.11.3"
  }
 },
 "nbformat": 4,
 "nbformat_minor": 5
}
