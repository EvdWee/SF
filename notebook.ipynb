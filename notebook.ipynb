{
 "cells": [
  {
   "cell_type": "code",
   "execution_count": 1,
   "id": "917202a6",
   "metadata": {
    "scrolled": false
   },
   "outputs": [
    {
     "name": "stdout",
     "output_type": "stream",
     "text": [
      "Scaling factor calculator \n",
      "\n",
      "Adjust the sliders to set the parameters of the plot\n",
      "\n"
     ]
    },
    {
     "data": {
      "application/vnd.jupyter.widget-view+json": {
       "model_id": "7b3197b1bec64545bb24b387d941dcd8",
       "version_major": 2,
       "version_minor": 0
      },
      "text/plain": [
       "interactive(children=(FloatSlider(value=0.85, description='Numerical aperture ----------', layout=Layout(width…"
      ]
     },
     "metadata": {},
     "output_type": "display_data"
    },
    {
     "data": {
      "application/vnd.jupyter.widget-view+json": {
       "model_id": "cc9251e19de04756aa67d042e6ffa589",
       "version_major": 2,
       "version_minor": 0
      },
      "text/plain": [
       "Output()"
      ]
     },
     "metadata": {},
     "output_type": "display_data"
    },
    {
     "data": {
      "application/vnd.jupyter.widget-view+json": {
       "model_id": "6c6a1660d5aa42a89ba6ece42699b572",
       "version_major": 2,
       "version_minor": 0
      },
      "text/plain": [
       "Output()"
      ]
     },
     "metadata": {},
     "output_type": "display_data"
    },
    {
     "data": {
      "application/vnd.jupyter.widget-view+json": {
       "model_id": "035683f209d0473d8cab915d04d90d7c",
       "version_major": 2,
       "version_minor": 0
      },
      "text/plain": [
       "Button(description='Reset plot', style=ButtonStyle())"
      ]
     },
     "metadata": {},
     "output_type": "display_data"
    },
    {
     "data": {
      "application/vnd.jupyter.widget-view+json": {
       "model_id": "783e43c35a114f148d693b46d7244cbe",
       "version_major": 2,
       "version_minor": 0
      },
      "text/plain": [
       "Button(description='Download as .csv', style=ButtonStyle())"
      ]
     },
     "metadata": {},
     "output_type": "display_data"
    },
    {
     "data": {
      "application/vnd.jupyter.widget-view+json": {
       "model_id": "8ca226ed057f4040b5a3b825007351d4",
       "version_major": 2,
       "version_minor": 0
      },
      "text/plain": [
       "Button(description='Source', style=ButtonStyle(), tooltip='https://github.com/hoogenboom-group/SF')"
      ]
     },
     "metadata": {},
     "output_type": "display_data"
    }
   ],
   "source": [
    "from ipywidgets import interact, interactive, fixed, interact_manual, Layout, Output, Button, Checkbox\n",
    "import ipywidgets as widgets\n",
    "import numpy as np\n",
    "import matplotlib.pyplot as plt\n",
    "from IPython.display import HTML, clear_output, Javascript\n",
    "from base64 import b64encode\n",
    "import warnings\n",
    "warnings.filterwarnings(\"ignore\", category=DeprecationWarning) \n",
    "%matplotlib inline\n",
    "\n",
    "##### DEFINE FUNCTIONS #####\n",
    "\n",
    "def scaling_factor(NA,n1,n2,lam_0):\n",
    "    z = np.arange(lam_0,100,0.1)\n",
    "    n2overn1 = np.divide(n2,n1)\n",
    "    \n",
    "    if n2overn1 < 1: eps = np.multiply(-1,np.divide(np.divide(lam_0,4),(np.multiply(z,n2))))\n",
    "    else: eps = np.divide(np.divide(lam_0,4),(np.multiply(z,n2)))\n",
    "    eps_term = np.multiply(eps, np.subtract(2,eps))    \n",
    "    \n",
    "    m = np.emath.sqrt(np.subtract(np.power(n2,2),np.power(n1,2)))\n",
    "    \n",
    "    sf_univ = np.multiply(np.divide(n2,n1),\n",
    "                          np.divide(1-eps+np.divide(m,n1)*np.emath.sqrt(eps_term),\n",
    "                                    1-np.multiply(np.divide(n2,n1)**2,eps_term)))\n",
    "    sf_crit = np.divide(n1-np.emath.sqrt(np.power(n1,2)-np.power(NA,2)),\n",
    "                        n2-np.emath.sqrt(np.power(n2,2)-np.power(NA,2)))\n",
    "    \n",
    "    sf = np.zeros(len(z))\n",
    "    for i in range(len(sf)):\n",
    "        if n2overn1 < 1: sf[i] = np.max([np.real(sf_univ[i]),np.real(sf_crit)])\n",
    "        elif n2overn1 > 1:sf[i] = np.min([np.real(sf_univ[i]),np.real(sf_crit)])\n",
    "        else: sf[i]=1\n",
    "    return z,sf,sf_crit,n2overn1\n",
    "\n",
    "def plot_scaling_factor(NA,n1,n2,lam_0,Scaling_theories):\n",
    "    z,sf,sf_crit,n2overn1=scaling_factor(NA,n1,n2,lam_0)\n",
    "    plt.figure(figsize=(8,5))\n",
    "\n",
    "    plt.xlim([0,100])\n",
    "    plt.xlabel(r'Depth ($\\mu$m)')\n",
    "    plt.ylabel(r'Scaling factor $\\zeta$')\n",
    "    plt.grid(ls=':')\n",
    "    plt.plot(z,sf,label='Scaling factor',zorder=3000)\n",
    "    if Scaling_theories == True:\n",
    "        plt.plot(z,Carlsson(z,n2overn1),label='Carlsson 1991')\n",
    "        plt.plot(z,Lyakin(z,n2,n1,NA),label=r'Lyakin $et~al.$ 2017')\n",
    "        plt.plot(z,diel_median(z,n1,n2,NA),label=r'Diel $et~al.$ 2020 (median)')\n",
    "        if n2 >= NA: \n",
    "            plt.plot(z,diel_mean(z,n1,n2,NA),label=r'Diel $et~al.$ 2020 (mean)')\n",
    "            plt.plot(z,visser(z,n2,n1,NA),label=r'Visser & Oud 1992')\n",
    "        if n2overn1 >= 1:\n",
    "            plt.plot(z,stallinga_high(z,n1,n2,[NA]),label=r'Stallinga 2005',ls='--')\n",
    "    #set ylimits:\n",
    "    if n2overn1 > 1:   \n",
    "        plt.ylim([n2overn1*0.95,1.05*np.real(sf_crit)])\n",
    "    elif n2overn1 < 1: \n",
    "        ymin=np.min([0.9*np.real(sf_crit),0.9*float(Lyakin([1],n2,n1,NA))])\n",
    "        ymax=n2overn1*1.05\n",
    "        plt.ylim([ymin,ymax])\n",
    "    else: plt.ylim(0.5,1.5)               \n",
    "    plt.legend()\n",
    "\n",
    "def csv_file(x,y):\n",
    "    # add column names\n",
    "    string = 'Depth (microns),Scaling Factor\\n'\n",
    "    for i in range(len(x)): #run over all data points and add to file\n",
    "        string+=(str(x[i])+','+str(y[i])+'\\n')\n",
    "    return string\n",
    "\n",
    "def trigger_download(text, filename, kind='text/json'):\n",
    "    # see https://developer.mozilla.org/en-US/docs/Web/HTTP/Basics_of_HTTP/Data_URIs for details\n",
    "    content_b64 = b64encode(text.encode()).decode()\n",
    "    data_url = f'data:{kind};charset=utf-8;base64,{content_b64}'\n",
    "    js_code = f\"\"\"\n",
    "        var a = document.createElement('a');\n",
    "        a.setAttribute('download', '{filename}');\n",
    "        a.setAttribute('href', '{data_url}');\n",
    "        a.click()\n",
    "    \"\"\"\n",
    "    with download_output:\n",
    "        clear_output()\n",
    "        display(HTML(f'<script>{js_code}</script>'))\n",
    "\n",
    "def download_csv(e=None):\n",
    "    NA = NA_slider.value\n",
    "    n1 = n1_slider.value\n",
    "    n2 = n2_slider.value\n",
    "    lam_0 = lam_slider.value\n",
    "    z,sf,_,_=scaling_factor(NA,n1,n2,lam_0)\n",
    "    trigger_download(csv_file(z,sf), 'sf_vs_depth.csv', kind='text/plain')\n",
    "    \n",
    "def window_open_button(url):\n",
    "    with out:\n",
    "        display(Javascript(f'window.open(\"{url.tooltip}\");'))\n",
    "\n",
    "##### DEPTH INDEPENDENT THEORIES\n",
    "\n",
    "def Carlsson(z,n2overn1):\n",
    "    return np.zeros(len(z)) + n2overn1\n",
    "\n",
    "def Lyakin(z,n_sample,n_im,NA):\n",
    "    d = 1\n",
    "    top = np.add(n_im,np.sqrt(np.subtract(np.power(n_im,2),np.power(NA,2))))\n",
    "    bottom_1 = np.multiply(4,np.subtract(np.power(n_sample,2),np.power(n_im,2)))\n",
    "    bottom_2 = np.add(n_im,np.emath.sqrt(np.subtract(np.power(n_im,2),np.power(NA,2))))\n",
    "    bottom = np.real(np.emath.sqrt(np.add(bottom_1,np.power(bottom_2,2))))\n",
    "    if bottom == 0: bottom=0.000000000000001\n",
    "    dz = np.multiply(d,np.divide(top,bottom))\n",
    "    scaling_factor = np.divide(1,dz)    \n",
    "    return np.zeros(len(z)) + scaling_factor\n",
    "\n",
    "def visser(z,n_sample,n_im,NA):\n",
    "    top = np.tan(np.arcsin(np.divide(NA,n_im)))\n",
    "    bottom = np.tan(np.arcsin(np.divide(NA,n_sample)))\n",
    "    sf = np.divide(top,bottom)\n",
    "    return np.zeros(len(z)) + sf\n",
    "\n",
    "def diel_mean(z,n_im,n_sample,NA):\n",
    "    sum=0\n",
    "    number_of_rays=10000 # paper uses 100, but this is still doable.\n",
    "    for i in range(number_of_rays):\n",
    "        k=i+1\n",
    "        top     =  np.tan(np.arcsin(np.divide((NA*k),(np.multiply(number_of_rays,n_im)))))\n",
    "        bottom  =  np.tan(np.arcsin(np.divide((NA*k),(np.multiply(number_of_rays,n_sample)))))\n",
    "        sum +=np.divide(top,bottom)\n",
    "    return np.zeros(len(z)) + np.divide(sum,number_of_rays)\n",
    "\n",
    "def diel_median(z,n_im,n_sample,NA):\n",
    "    top = np.tan(np.arcsin(np.divide(0.5*NA,n_im)))\n",
    "    bottom = np.tan(np.arcsin(np.divide(0.5*NA,n_sample)))\n",
    "    return np.zeros(len(z)) + np.divide(top,bottom)\n",
    "\n",
    "def stallinga_high(z,nn1,nn2,NA):\n",
    "    if nn1==nn2: \n",
    "        return np.ones(len(z))\n",
    "    alphas=[]\n",
    "    for i in range(len(NA)):\n",
    "        alphas.append(-1*(f1f2_av(nn1,nn2,NA[i]) \n",
    "                          - f_av(nn1,NA[i]) * f_av(nn2,NA[i])) \n",
    "                      / (ff_av(nn1,NA[i]) - f_av(nn1,NA[i])**2))\n",
    "    d=1\n",
    "    dz = np.multiply((np.add(alphas,1)),d) #we take delta d as 1\n",
    "    scaling_factor = np.divide((d-dz),d)\n",
    "    \n",
    "    sf = np.divide(-1,alphas)\n",
    "    return np.zeros(len(z)) + sf\n",
    "\n",
    "def f_av(nn,NA):\n",
    "    f=2*(nn**3-(nn**2-NA**2)**(3/2))/(3*NA**2)\n",
    "    return f\n",
    "\n",
    "def ff_av(nn,NA):\n",
    "    ff=nn**2-(NA**2)/2\n",
    "    return ff\n",
    "\n",
    "def f1f2_av(nn1,nn2,NA):\n",
    "    f1f2 = ( (nn1*nn2**3+nn2*nn1**3 - (nn1**2+nn2**2-2*NA**2)*np.sqrt(nn1**2-NA**2)*np.sqrt(nn2**2-NA**2) \n",
    "            - ((nn1**2-nn2**2)**2)*np.log( ( np.sqrt(nn1**2-NA**2) - np.sqrt(nn2**2-NA**2) )/ (nn1-nn2) ) )/(4*NA**2) )\n",
    "    return f1f2\n",
    "\n",
    "##### START CODE #####\n",
    "        \n",
    "print(\"Scaling factor calculator \\n\\nAdjust the sliders to set the parameters of the plot\\n\")    \n",
    "\n",
    "#set widget parameters:\n",
    "style = {'description_width': 'initial'}\n",
    "slider_width = '500px'#'40%'\n",
    "\n",
    "n1_init=1\n",
    "n2_init=1.33\n",
    "NA_init=0.85\n",
    "lam_init=0.52\n",
    "#define widgets:\n",
    "n1_slider = widgets.FloatSlider(min=1,max=1.52,value=n1_init, step=0.01,\n",
    "                                description='Immersion refractive index $n_1$',\n",
    "                               style=style,layout = Layout(width=slider_width))\n",
    "n2_slider = widgets.FloatSlider(min=1,max=1.52,value=n2_init,step=0.01,\n",
    "                                description='Sample refractive index $n_2$ --',\n",
    "                               style=style,layout = Layout(width=slider_width))\n",
    "NA_slider = widgets.FloatSlider(min=0.1, max=1.45,value=NA_init,step=0.05,\n",
    "                                description='Numerical aperture ----------',\n",
    "                               style=style,layout = Layout(width=slider_width))\n",
    "lam_slider = widgets.FloatSlider(min=0.2, max=0.9,value=lam_init,step=0.02,\n",
    "                                 description=r'Wavelength $\\lambda_0$ ($\\mu$m) ---------',\n",
    "                                style=style,layout = Layout(width=slider_width))\n",
    "theories_checkbox = widgets.Checkbox(False, description='Show depth-independent axial scaling theories',\n",
    "                                    layout = Layout(width=slider_width))\n",
    "\n",
    "#make NA slider dependent on n1\n",
    "def set_NA_range(n1):\n",
    "    if n1 > 1.45: NA_slider.max =  1.45\n",
    "    else: NA_slider.max =  n1\n",
    "\n",
    "def reset_values(e=None):\n",
    "    NA_slider.value=NA_init\n",
    "    n1_slider.value=n1_init\n",
    "    n2_slider.value=n2_init\n",
    "    lam_slider.value=lam_init\n",
    "    \n",
    "        \n",
    "#h = widgets.interactive(reset_values)        \n",
    "i = widgets.interactive(set_NA_range, n1=n1_slider)\n",
    "j = widgets.interactive(plot_scaling_factor, n1=n1_slider,n2=n2_slider,\n",
    "                        NA=NA_slider,lam_0=lam_slider,Scaling_theories=theories_checkbox)\n",
    "display(j)\n",
    "\n",
    "#make buttons\n",
    "download_output = Output()\n",
    "display(download_output)\n",
    "out = Output()\n",
    "display(out)\n",
    "\n",
    "btn = Button(description='Download as .csv')\n",
    "btn2 = Button(description=\"Source\", tooltip='https://github.com/hoogenboom-group/SF')\n",
    "btn_reset=Button(description='Reset plot')\n",
    "\n",
    "btn_reset.on_click(reset_values)\n",
    "btn.on_click(download_csv)\n",
    "btn2.on_click(window_open_button)\n",
    "\n",
    "display(btn_reset,btn,btn2)\n"
   ]
  },
  {
   "cell_type": "code",
   "execution_count": null,
   "id": "ff70827e",
   "metadata": {},
   "outputs": [],
   "source": []
  },
  {
   "cell_type": "code",
   "execution_count": null,
   "id": "8e0d2cef",
   "metadata": {},
   "outputs": [],
   "source": []
  }
 ],
 "metadata": {
  "kernelspec": {
   "display_name": "Python 3 (ipykernel)",
   "language": "python",
   "name": "python3"
  },
  "language_info": {
   "codemirror_mode": {
    "name": "ipython",
    "version": 3
   },
   "file_extension": ".py",
   "mimetype": "text/x-python",
   "name": "python",
   "nbconvert_exporter": "python",
   "pygments_lexer": "ipython3",
   "version": "3.11.3"
  }
 },
 "nbformat": 4,
 "nbformat_minor": 5
}
